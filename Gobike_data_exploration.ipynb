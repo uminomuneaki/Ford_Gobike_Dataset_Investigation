{
 "cells": [
  {
   "cell_type": "markdown",
   "metadata": {},
   "source": [
    "# Ford gobike Dataset Exploration\n",
    "## by Muneaki Umino\n",
    "\n",
    "## Preliminary Wrangling\n",
    "\n",
    "> Briefly introduce your dataset here."
   ]
  },
  {
   "cell_type": "code",
   "execution_count": 1,
   "metadata": {},
   "outputs": [],
   "source": [
    "# import all packages\n",
    "import numpy as np\n",
    "import pandas as pd\n",
    "import matplotlib.pyplot as plt\n",
    "import seaborn as sb\n",
    "\n",
    "%matplotlib inline"
   ]
  },
  {
   "cell_type": "markdown",
   "metadata": {},
   "source": [
    "> Load in your dataset and describe its properties through the questions below.\n",
    "Try and motivate your exploration goals through this section."
   ]
  },
  {
   "cell_type": "code",
   "execution_count": 2,
   "metadata": {},
   "outputs": [
    {
     "data": {
      "text/html": [
       "<div>\n",
       "<style scoped>\n",
       "    .dataframe tbody tr th:only-of-type {\n",
       "        vertical-align: middle;\n",
       "    }\n",
       "\n",
       "    .dataframe tbody tr th {\n",
       "        vertical-align: top;\n",
       "    }\n",
       "\n",
       "    .dataframe thead th {\n",
       "        text-align: right;\n",
       "    }\n",
       "</style>\n",
       "<table border=\"1\" class=\"dataframe\">\n",
       "  <thead>\n",
       "    <tr style=\"text-align: right;\">\n",
       "      <th></th>\n",
       "      <th>duration_sec</th>\n",
       "      <th>start_time</th>\n",
       "      <th>end_time</th>\n",
       "      <th>start_station_id</th>\n",
       "      <th>start_station_name</th>\n",
       "      <th>start_station_latitude</th>\n",
       "      <th>start_station_longitude</th>\n",
       "      <th>end_station_id</th>\n",
       "      <th>end_station_name</th>\n",
       "      <th>end_station_latitude</th>\n",
       "      <th>end_station_longitude</th>\n",
       "      <th>bike_id</th>\n",
       "      <th>user_type</th>\n",
       "    </tr>\n",
       "  </thead>\n",
       "  <tbody>\n",
       "    <tr>\n",
       "      <th>0</th>\n",
       "      <td>80110</td>\n",
       "      <td>2017-12-31 16:57:39.6540</td>\n",
       "      <td>2018-01-01 15:12:50.2450</td>\n",
       "      <td>74</td>\n",
       "      <td>Laguna St at Hayes St</td>\n",
       "      <td>37.776435</td>\n",
       "      <td>-122.426244</td>\n",
       "      <td>43</td>\n",
       "      <td>San Francisco Public Library (Grove St at Hyde...</td>\n",
       "      <td>37.778768</td>\n",
       "      <td>-122.415929</td>\n",
       "      <td>96</td>\n",
       "      <td>Customer</td>\n",
       "    </tr>\n",
       "    <tr>\n",
       "      <th>1</th>\n",
       "      <td>78800</td>\n",
       "      <td>2017-12-31 15:56:34.8420</td>\n",
       "      <td>2018-01-01 13:49:55.6170</td>\n",
       "      <td>284</td>\n",
       "      <td>Yerba Buena Center for the Arts (Howard St at ...</td>\n",
       "      <td>37.784872</td>\n",
       "      <td>-122.400876</td>\n",
       "      <td>96</td>\n",
       "      <td>Dolores St at 15th St</td>\n",
       "      <td>37.766210</td>\n",
       "      <td>-122.426614</td>\n",
       "      <td>88</td>\n",
       "      <td>Customer</td>\n",
       "    </tr>\n",
       "    <tr>\n",
       "      <th>2</th>\n",
       "      <td>45768</td>\n",
       "      <td>2017-12-31 22:45:48.4110</td>\n",
       "      <td>2018-01-01 11:28:36.8830</td>\n",
       "      <td>245</td>\n",
       "      <td>Downtown Berkeley BART</td>\n",
       "      <td>37.870348</td>\n",
       "      <td>-122.267764</td>\n",
       "      <td>245</td>\n",
       "      <td>Downtown Berkeley BART</td>\n",
       "      <td>37.870348</td>\n",
       "      <td>-122.267764</td>\n",
       "      <td>1094</td>\n",
       "      <td>Customer</td>\n",
       "    </tr>\n",
       "    <tr>\n",
       "      <th>3</th>\n",
       "      <td>62172</td>\n",
       "      <td>2017-12-31 17:31:10.6360</td>\n",
       "      <td>2018-01-01 10:47:23.5310</td>\n",
       "      <td>60</td>\n",
       "      <td>8th St at Ringold St</td>\n",
       "      <td>37.774520</td>\n",
       "      <td>-122.409449</td>\n",
       "      <td>5</td>\n",
       "      <td>Powell St BART Station (Market St at 5th St)</td>\n",
       "      <td>37.783899</td>\n",
       "      <td>-122.408445</td>\n",
       "      <td>2831</td>\n",
       "      <td>Customer</td>\n",
       "    </tr>\n",
       "    <tr>\n",
       "      <th>4</th>\n",
       "      <td>43603</td>\n",
       "      <td>2017-12-31 14:23:14.0010</td>\n",
       "      <td>2018-01-01 02:29:57.5710</td>\n",
       "      <td>239</td>\n",
       "      <td>Bancroft Way at Telegraph Ave</td>\n",
       "      <td>37.868813</td>\n",
       "      <td>-122.258764</td>\n",
       "      <td>247</td>\n",
       "      <td>Fulton St at Bancroft Way</td>\n",
       "      <td>37.867789</td>\n",
       "      <td>-122.265896</td>\n",
       "      <td>3167</td>\n",
       "      <td>Subscriber</td>\n",
       "    </tr>\n",
       "  </tbody>\n",
       "</table>\n",
       "</div>"
      ],
      "text/plain": [
       "   duration_sec                start_time                  end_time  \\\n",
       "0         80110  2017-12-31 16:57:39.6540  2018-01-01 15:12:50.2450   \n",
       "1         78800  2017-12-31 15:56:34.8420  2018-01-01 13:49:55.6170   \n",
       "2         45768  2017-12-31 22:45:48.4110  2018-01-01 11:28:36.8830   \n",
       "3         62172  2017-12-31 17:31:10.6360  2018-01-01 10:47:23.5310   \n",
       "4         43603  2017-12-31 14:23:14.0010  2018-01-01 02:29:57.5710   \n",
       "\n",
       "   start_station_id                                 start_station_name  \\\n",
       "0                74                              Laguna St at Hayes St   \n",
       "1               284  Yerba Buena Center for the Arts (Howard St at ...   \n",
       "2               245                             Downtown Berkeley BART   \n",
       "3                60                               8th St at Ringold St   \n",
       "4               239                      Bancroft Way at Telegraph Ave   \n",
       "\n",
       "   start_station_latitude  start_station_longitude  end_station_id  \\\n",
       "0               37.776435              -122.426244              43   \n",
       "1               37.784872              -122.400876              96   \n",
       "2               37.870348              -122.267764             245   \n",
       "3               37.774520              -122.409449               5   \n",
       "4               37.868813              -122.258764             247   \n",
       "\n",
       "                                    end_station_name  end_station_latitude  \\\n",
       "0  San Francisco Public Library (Grove St at Hyde...             37.778768   \n",
       "1                              Dolores St at 15th St             37.766210   \n",
       "2                             Downtown Berkeley BART             37.870348   \n",
       "3       Powell St BART Station (Market St at 5th St)             37.783899   \n",
       "4                          Fulton St at Bancroft Way             37.867789   \n",
       "\n",
       "   end_station_longitude  bike_id   user_type  \n",
       "0            -122.415929       96    Customer  \n",
       "1            -122.426614       88    Customer  \n",
       "2            -122.267764     1094    Customer  \n",
       "3            -122.408445     2831    Customer  \n",
       "4            -122.265896     3167  Subscriber  "
      ]
     },
     "execution_count": 2,
     "metadata": {},
     "output_type": "execute_result"
    }
   ],
   "source": [
    "df = pd.read_csv('2017-fordgobike-tripdata.csv')\n",
    "df.head()"
   ]
  },
  {
   "cell_type": "code",
   "execution_count": 3,
   "metadata": {},
   "outputs": [
    {
     "name": "stdout",
     "output_type": "stream",
     "text": [
      "<class 'pandas.core.frame.DataFrame'>\n",
      "RangeIndex: 519700 entries, 0 to 519699\n",
      "Data columns (total 13 columns):\n",
      " #   Column                   Non-Null Count   Dtype  \n",
      "---  ------                   --------------   -----  \n",
      " 0   duration_sec             519700 non-null  int64  \n",
      " 1   start_time               519700 non-null  object \n",
      " 2   end_time                 519700 non-null  object \n",
      " 3   start_station_id         519700 non-null  int64  \n",
      " 4   start_station_name       519700 non-null  object \n",
      " 5   start_station_latitude   519700 non-null  float64\n",
      " 6   start_station_longitude  519700 non-null  float64\n",
      " 7   end_station_id           519700 non-null  int64  \n",
      " 8   end_station_name         519700 non-null  object \n",
      " 9   end_station_latitude     519700 non-null  float64\n",
      " 10  end_station_longitude    519700 non-null  float64\n",
      " 11  bike_id                  519700 non-null  int64  \n",
      " 12  user_type                519700 non-null  object \n",
      "dtypes: float64(4), int64(4), object(5)\n",
      "memory usage: 51.5+ MB\n"
     ]
    }
   ],
   "source": [
    "df.info()"
   ]
  },
  {
   "cell_type": "code",
   "execution_count": 4,
   "metadata": {},
   "outputs": [
    {
     "data": {
      "text/html": [
       "<div>\n",
       "<style scoped>\n",
       "    .dataframe tbody tr th:only-of-type {\n",
       "        vertical-align: middle;\n",
       "    }\n",
       "\n",
       "    .dataframe tbody tr th {\n",
       "        vertical-align: top;\n",
       "    }\n",
       "\n",
       "    .dataframe thead th {\n",
       "        text-align: right;\n",
       "    }\n",
       "</style>\n",
       "<table border=\"1\" class=\"dataframe\">\n",
       "  <thead>\n",
       "    <tr style=\"text-align: right;\">\n",
       "      <th></th>\n",
       "      <th>duration_sec</th>\n",
       "      <th>start_station_id</th>\n",
       "      <th>start_station_latitude</th>\n",
       "      <th>start_station_longitude</th>\n",
       "      <th>end_station_id</th>\n",
       "      <th>end_station_latitude</th>\n",
       "      <th>end_station_longitude</th>\n",
       "      <th>bike_id</th>\n",
       "    </tr>\n",
       "  </thead>\n",
       "  <tbody>\n",
       "    <tr>\n",
       "      <th>count</th>\n",
       "      <td>519700.000000</td>\n",
       "      <td>519700.000000</td>\n",
       "      <td>519700.000000</td>\n",
       "      <td>519700.000000</td>\n",
       "      <td>519700.000000</td>\n",
       "      <td>519700.000000</td>\n",
       "      <td>519700.000000</td>\n",
       "      <td>519700.000000</td>\n",
       "    </tr>\n",
       "    <tr>\n",
       "      <th>mean</th>\n",
       "      <td>1099.009521</td>\n",
       "      <td>95.034245</td>\n",
       "      <td>37.771653</td>\n",
       "      <td>-122.363927</td>\n",
       "      <td>92.184041</td>\n",
       "      <td>37.771844</td>\n",
       "      <td>-122.363236</td>\n",
       "      <td>1672.533079</td>\n",
       "    </tr>\n",
       "    <tr>\n",
       "      <th>std</th>\n",
       "      <td>3444.146451</td>\n",
       "      <td>86.083078</td>\n",
       "      <td>0.086305</td>\n",
       "      <td>0.105573</td>\n",
       "      <td>84.969491</td>\n",
       "      <td>0.086224</td>\n",
       "      <td>0.105122</td>\n",
       "      <td>971.356959</td>\n",
       "    </tr>\n",
       "    <tr>\n",
       "      <th>min</th>\n",
       "      <td>61.000000</td>\n",
       "      <td>3.000000</td>\n",
       "      <td>37.317298</td>\n",
       "      <td>-122.444293</td>\n",
       "      <td>3.000000</td>\n",
       "      <td>37.317298</td>\n",
       "      <td>-122.444293</td>\n",
       "      <td>10.000000</td>\n",
       "    </tr>\n",
       "    <tr>\n",
       "      <th>25%</th>\n",
       "      <td>382.000000</td>\n",
       "      <td>24.000000</td>\n",
       "      <td>37.773492</td>\n",
       "      <td>-122.411726</td>\n",
       "      <td>23.000000</td>\n",
       "      <td>37.774520</td>\n",
       "      <td>-122.410345</td>\n",
       "      <td>787.000000</td>\n",
       "    </tr>\n",
       "    <tr>\n",
       "      <th>50%</th>\n",
       "      <td>596.000000</td>\n",
       "      <td>67.000000</td>\n",
       "      <td>37.783521</td>\n",
       "      <td>-122.398870</td>\n",
       "      <td>66.000000</td>\n",
       "      <td>37.783830</td>\n",
       "      <td>-122.398525</td>\n",
       "      <td>1728.500000</td>\n",
       "    </tr>\n",
       "    <tr>\n",
       "      <th>75%</th>\n",
       "      <td>938.000000</td>\n",
       "      <td>139.000000</td>\n",
       "      <td>37.795392</td>\n",
       "      <td>-122.391034</td>\n",
       "      <td>134.000000</td>\n",
       "      <td>37.795392</td>\n",
       "      <td>-122.391034</td>\n",
       "      <td>2520.000000</td>\n",
       "    </tr>\n",
       "    <tr>\n",
       "      <th>max</th>\n",
       "      <td>86369.000000</td>\n",
       "      <td>340.000000</td>\n",
       "      <td>37.880222</td>\n",
       "      <td>-121.874119</td>\n",
       "      <td>340.000000</td>\n",
       "      <td>37.880222</td>\n",
       "      <td>-121.874119</td>\n",
       "      <td>3733.000000</td>\n",
       "    </tr>\n",
       "  </tbody>\n",
       "</table>\n",
       "</div>"
      ],
      "text/plain": [
       "        duration_sec  start_station_id  start_station_latitude  \\\n",
       "count  519700.000000     519700.000000           519700.000000   \n",
       "mean     1099.009521         95.034245               37.771653   \n",
       "std      3444.146451         86.083078                0.086305   \n",
       "min        61.000000          3.000000               37.317298   \n",
       "25%       382.000000         24.000000               37.773492   \n",
       "50%       596.000000         67.000000               37.783521   \n",
       "75%       938.000000        139.000000               37.795392   \n",
       "max     86369.000000        340.000000               37.880222   \n",
       "\n",
       "       start_station_longitude  end_station_id  end_station_latitude  \\\n",
       "count            519700.000000   519700.000000         519700.000000   \n",
       "mean               -122.363927       92.184041             37.771844   \n",
       "std                   0.105573       84.969491              0.086224   \n",
       "min                -122.444293        3.000000             37.317298   \n",
       "25%                -122.411726       23.000000             37.774520   \n",
       "50%                -122.398870       66.000000             37.783830   \n",
       "75%                -122.391034      134.000000             37.795392   \n",
       "max                -121.874119      340.000000             37.880222   \n",
       "\n",
       "       end_station_longitude        bike_id  \n",
       "count          519700.000000  519700.000000  \n",
       "mean             -122.363236    1672.533079  \n",
       "std                 0.105122     971.356959  \n",
       "min              -122.444293      10.000000  \n",
       "25%              -122.410345     787.000000  \n",
       "50%              -122.398525    1728.500000  \n",
       "75%              -122.391034    2520.000000  \n",
       "max              -121.874119    3733.000000  "
      ]
     },
     "execution_count": 4,
     "metadata": {},
     "output_type": "execute_result"
    }
   ],
   "source": [
    "df.describe()"
   ]
  },
  {
   "cell_type": "code",
   "execution_count": 5,
   "metadata": {},
   "outputs": [],
   "source": [
    "# Create day and weekday columns\n",
    "df.start_time = pd.to_datetime(df.start_time)\n",
    "df['day'] = df.start_time.dt.strftime('%A')\n",
    "\n",
    "df['weekday'] = df.start_time.dt.weekday.apply(lambda x: 'weekday' if x < 5 else 'weekend')"
   ]
  },
  {
   "cell_type": "code",
   "execution_count": 6,
   "metadata": {},
   "outputs": [],
   "source": [
    "# Create distance column\n",
    "from math import radians, cos, sin, asin, sqrt \n",
    "def distance(lon1, lat1, lon2, lat2): \n",
    "      \n",
    "    # radians converts from degrees to radians. \n",
    "    lon1 = df.start_station_longitude\n",
    "    lon2 = df.end_station_longitude\n",
    "    lat1 = df.start_station_latitude\n",
    "    lat2 = df.end_station_latitude\n",
    "    \n",
    "    lon1, lat1, lon2, lat2 = map(np.radians, [lon1, lat1, lon2, lat2])\n",
    "       \n",
    "    # Haversine formula  \n",
    "    dlon = lon2 - lon1  \n",
    "    dlat = lat2 - lat1 \n",
    "    a = np.sin(dlat / 2)**2 + np.cos(lat1) * np.cos(lat2) * np.sin(dlon / 2)**2\n",
    "  \n",
    "    c = 2 * np.arcsin(np.sqrt(a))  \n",
    "     \n",
    "    # Radius of earth in kilometers. Use 3956 for miles \n",
    "    r = 6371\n",
    "       \n",
    "    distance = r * c\n",
    "    return np.float64(round(1000*distance))\n",
    "\n",
    "df['distance'] = distance(df['start_station_longitude'],\n",
    "                         df['start_station_latitude'],\n",
    "                         df['end_station_longitude'],\n",
    "                         df['end_station_latitude'])"
   ]
  },
  {
   "cell_type": "code",
   "execution_count": 7,
   "metadata": {},
   "outputs": [
    {
     "data": {
      "text/html": [
       "<div>\n",
       "<style scoped>\n",
       "    .dataframe tbody tr th:only-of-type {\n",
       "        vertical-align: middle;\n",
       "    }\n",
       "\n",
       "    .dataframe tbody tr th {\n",
       "        vertical-align: top;\n",
       "    }\n",
       "\n",
       "    .dataframe thead th {\n",
       "        text-align: right;\n",
       "    }\n",
       "</style>\n",
       "<table border=\"1\" class=\"dataframe\">\n",
       "  <thead>\n",
       "    <tr style=\"text-align: right;\">\n",
       "      <th></th>\n",
       "      <th>duration_sec</th>\n",
       "      <th>start_time</th>\n",
       "      <th>end_time</th>\n",
       "      <th>start_station_id</th>\n",
       "      <th>start_station_name</th>\n",
       "      <th>start_station_latitude</th>\n",
       "      <th>start_station_longitude</th>\n",
       "      <th>end_station_id</th>\n",
       "      <th>end_station_name</th>\n",
       "      <th>end_station_latitude</th>\n",
       "      <th>end_station_longitude</th>\n",
       "      <th>bike_id</th>\n",
       "      <th>user_type</th>\n",
       "      <th>day</th>\n",
       "      <th>weekday</th>\n",
       "      <th>distance</th>\n",
       "    </tr>\n",
       "  </thead>\n",
       "  <tbody>\n",
       "    <tr>\n",
       "      <th>0</th>\n",
       "      <td>80110</td>\n",
       "      <td>2017-12-31 16:57:39.654</td>\n",
       "      <td>2018-01-01 15:12:50.2450</td>\n",
       "      <td>74</td>\n",
       "      <td>Laguna St at Hayes St</td>\n",
       "      <td>37.776435</td>\n",
       "      <td>-122.426244</td>\n",
       "      <td>43</td>\n",
       "      <td>San Francisco Public Library (Grove St at Hyde...</td>\n",
       "      <td>37.778768</td>\n",
       "      <td>-122.415929</td>\n",
       "      <td>96</td>\n",
       "      <td>Customer</td>\n",
       "      <td>Sunday</td>\n",
       "      <td>weekend</td>\n",
       "      <td>943.0</td>\n",
       "    </tr>\n",
       "    <tr>\n",
       "      <th>1</th>\n",
       "      <td>78800</td>\n",
       "      <td>2017-12-31 15:56:34.842</td>\n",
       "      <td>2018-01-01 13:49:55.6170</td>\n",
       "      <td>284</td>\n",
       "      <td>Yerba Buena Center for the Arts (Howard St at ...</td>\n",
       "      <td>37.784872</td>\n",
       "      <td>-122.400876</td>\n",
       "      <td>96</td>\n",
       "      <td>Dolores St at 15th St</td>\n",
       "      <td>37.766210</td>\n",
       "      <td>-122.426614</td>\n",
       "      <td>88</td>\n",
       "      <td>Customer</td>\n",
       "      <td>Sunday</td>\n",
       "      <td>weekend</td>\n",
       "      <td>3070.0</td>\n",
       "    </tr>\n",
       "    <tr>\n",
       "      <th>2</th>\n",
       "      <td>45768</td>\n",
       "      <td>2017-12-31 22:45:48.411</td>\n",
       "      <td>2018-01-01 11:28:36.8830</td>\n",
       "      <td>245</td>\n",
       "      <td>Downtown Berkeley BART</td>\n",
       "      <td>37.870348</td>\n",
       "      <td>-122.267764</td>\n",
       "      <td>245</td>\n",
       "      <td>Downtown Berkeley BART</td>\n",
       "      <td>37.870348</td>\n",
       "      <td>-122.267764</td>\n",
       "      <td>1094</td>\n",
       "      <td>Customer</td>\n",
       "      <td>Sunday</td>\n",
       "      <td>weekend</td>\n",
       "      <td>0.0</td>\n",
       "    </tr>\n",
       "    <tr>\n",
       "      <th>3</th>\n",
       "      <td>62172</td>\n",
       "      <td>2017-12-31 17:31:10.636</td>\n",
       "      <td>2018-01-01 10:47:23.5310</td>\n",
       "      <td>60</td>\n",
       "      <td>8th St at Ringold St</td>\n",
       "      <td>37.774520</td>\n",
       "      <td>-122.409449</td>\n",
       "      <td>5</td>\n",
       "      <td>Powell St BART Station (Market St at 5th St)</td>\n",
       "      <td>37.783899</td>\n",
       "      <td>-122.408445</td>\n",
       "      <td>2831</td>\n",
       "      <td>Customer</td>\n",
       "      <td>Sunday</td>\n",
       "      <td>weekend</td>\n",
       "      <td>1047.0</td>\n",
       "    </tr>\n",
       "    <tr>\n",
       "      <th>4</th>\n",
       "      <td>43603</td>\n",
       "      <td>2017-12-31 14:23:14.001</td>\n",
       "      <td>2018-01-01 02:29:57.5710</td>\n",
       "      <td>239</td>\n",
       "      <td>Bancroft Way at Telegraph Ave</td>\n",
       "      <td>37.868813</td>\n",
       "      <td>-122.258764</td>\n",
       "      <td>247</td>\n",
       "      <td>Fulton St at Bancroft Way</td>\n",
       "      <td>37.867789</td>\n",
       "      <td>-122.265896</td>\n",
       "      <td>3167</td>\n",
       "      <td>Subscriber</td>\n",
       "      <td>Sunday</td>\n",
       "      <td>weekend</td>\n",
       "      <td>636.0</td>\n",
       "    </tr>\n",
       "  </tbody>\n",
       "</table>\n",
       "</div>"
      ],
      "text/plain": [
       "   duration_sec              start_time                  end_time  \\\n",
       "0         80110 2017-12-31 16:57:39.654  2018-01-01 15:12:50.2450   \n",
       "1         78800 2017-12-31 15:56:34.842  2018-01-01 13:49:55.6170   \n",
       "2         45768 2017-12-31 22:45:48.411  2018-01-01 11:28:36.8830   \n",
       "3         62172 2017-12-31 17:31:10.636  2018-01-01 10:47:23.5310   \n",
       "4         43603 2017-12-31 14:23:14.001  2018-01-01 02:29:57.5710   \n",
       "\n",
       "   start_station_id                                 start_station_name  \\\n",
       "0                74                              Laguna St at Hayes St   \n",
       "1               284  Yerba Buena Center for the Arts (Howard St at ...   \n",
       "2               245                             Downtown Berkeley BART   \n",
       "3                60                               8th St at Ringold St   \n",
       "4               239                      Bancroft Way at Telegraph Ave   \n",
       "\n",
       "   start_station_latitude  start_station_longitude  end_station_id  \\\n",
       "0               37.776435              -122.426244              43   \n",
       "1               37.784872              -122.400876              96   \n",
       "2               37.870348              -122.267764             245   \n",
       "3               37.774520              -122.409449               5   \n",
       "4               37.868813              -122.258764             247   \n",
       "\n",
       "                                    end_station_name  end_station_latitude  \\\n",
       "0  San Francisco Public Library (Grove St at Hyde...             37.778768   \n",
       "1                              Dolores St at 15th St             37.766210   \n",
       "2                             Downtown Berkeley BART             37.870348   \n",
       "3       Powell St BART Station (Market St at 5th St)             37.783899   \n",
       "4                          Fulton St at Bancroft Way             37.867789   \n",
       "\n",
       "   end_station_longitude  bike_id   user_type     day  weekday  distance  \n",
       "0            -122.415929       96    Customer  Sunday  weekend     943.0  \n",
       "1            -122.426614       88    Customer  Sunday  weekend    3070.0  \n",
       "2            -122.267764     1094    Customer  Sunday  weekend       0.0  \n",
       "3            -122.408445     2831    Customer  Sunday  weekend    1047.0  \n",
       "4            -122.265896     3167  Subscriber  Sunday  weekend     636.0  "
      ]
     },
     "execution_count": 7,
     "metadata": {},
     "output_type": "execute_result"
    }
   ],
   "source": [
    "df.head()"
   ]
  },
  {
   "cell_type": "markdown",
   "metadata": {},
   "source": [
    "### What is the structure of your dataset?\n",
    "\n",
    "There are 519700 observations ofdata\n",
    "Columns of this dataset are:\n",
    "\n",
    "1 duration_sec           Numeric\n",
    "start_time               *Cross-sectional (Combination of start_time and end_time represent one numeric variable)*\n",
    "end_time                 *Cross-sectional*\n",
    "start_station_id         Categorical\n",
    "start_station_name       Categorical\n",
    "start_station_latitude   *Cross-sectional (Combination of start_station_latitude and end_station_latitude represent one numeric variable)*\n",
    "start_station_longitude  *Cross-sectional (Combination of start_station_longitude and end_station_longitude represent one numeric variable)*\n",
    "end_station_id           Categorical  \n",
    "end_station_name         Categorical \n",
    "end_station_latitude     *Cross-sectional (Combination of start_station_latitude and end_station_latitude represent one numeric variable)*\n",
    "end_station_longitude    *Cross-sectional (Combination of start_station_longitude and end_station_longitude represent one numeric variable)*\n",
    "bike_id                  Categorical  \n",
    "user_type                Categorical \n",
    "day                      Categorical\n",
    "weelend                  Categorical\n",
    "distance                 Numeric\n",
    "\n",
    "\n",
    "### What is/are the main feature(s) of interest in your dataset?\n",
    "\n",
    "Main future od this dataset is how long, and how much distance customers travel on each bike trip.\n",
    "I am also interested to see if there is any difference between user types, day of the week, weekdays or weekends.\n",
    "\n",
    "### What features in the dataset do you think will help support your investigation into your feature(s) of interest?\n",
    "\n",
    "I expect `duration_sec`, `user_type`, and `day`, `weekend`, `distance` columns bring interesting insight of the dataset."
   ]
  },
  {
   "cell_type": "markdown",
   "metadata": {},
   "source": [
    "## Univariate Exploration"
   ]
  },
  {
   "cell_type": "code",
   "execution_count": 8,
   "metadata": {},
   "outputs": [
    {
     "data": {
      "image/png": "[encoded data removed]",
      "text/plain": [
       "<Figure size 576x360 with 1 Axes>"
      ]
     },
     "metadata": {
      "needs_background": "light"
     },
     "output_type": "display_data"
    }
   ],
   "source": [
    "# Let's see how long customers use Gobike\n",
    "binsize = 25\n",
    "bins = np.arange(61, 15000, 100)\n",
    "\n",
    "plt.figure(figsize=[8, 5])\n",
    "plt.hist(data = df, x = 'duration_sec', bins = bins)\n",
    "plt.xlabel('Sec')\n",
    "plt.show()"
   ]
  },
  {
   "cell_type": "code",
   "execution_count": 9,
   "metadata": {},
   "outputs": [
    {
     "data": {
      "image/png": "[encoded data removed]",
      "text/plain": [
       "<Figure size 576x360 with 1 Axes>"
      ]
     },
     "metadata": {
      "needs_background": "light"
     },
     "output_type": "display_data"
    }
   ],
   "source": [
    "# there's a long tail in the distribution, so let's put it on a log scale instead\n",
    "log_binsize = 0.025\n",
    "bins = 10 ** np.arange(2.4, np.log10(df['duration_sec'].max())+log_binsize, log_binsize)\n",
    "\n",
    "plt.figure(figsize=[8, 5])\n",
    "plt.hist(data = df, x = 'duration_sec', bins = bins)\n",
    "plt.xscale('log')\n",
    "plt.xticks([2000, 4000, 6000, 10000, 12000, 14000], ['2k', '4k', '6k', '10k', '12k', '14k'])\n",
    "\n",
    "plt.xticks(rotation = 60)\n",
    "plt.show()"
   ]
  },
  {
   "cell_type": "markdown",
   "metadata": {},
   "source": [
    "It looks like most Gobikers use service for a short time, probably around 1000 seconds."
   ]
  },
  {
   "cell_type": "code",
   "execution_count": 10,
   "metadata": {},
   "outputs": [
    {
     "data": {
      "image/png": "[encoded data removed]",
      "text/plain": [
       "<Figure size 432x288 with 1 Axes>"
      ]
     },
     "metadata": {
      "needs_background": "light"
     },
     "output_type": "display_data"
    }
   ],
   "source": [
    "# Is there any difference between days?\n",
    "level_order = ['Monday','Tuesday','Wednesday','Thursday', 'Friday', 'Saturday', 'Sunday']\n",
    "category_order = pd.api.types.CategoricalDtype(ordered = True, categories = level_order)\n",
    "df['day'] = df['day'].astype(category_order)\n",
    "\n",
    "base_color = sb.color_palette()[0]\n",
    "plt.xticks(rotation = 15)\n",
    "sb.countplot(data = df, x = 'day', color = base_color);"
   ]
  },
  {
   "cell_type": "markdown",
   "metadata": {},
   "source": [
    "There is a big difference, I can clearly see there are more Gobikers on weekdays. that means they probably use Gobike for commute to work on weekdays than sightseeing on weekends."
   ]
  },
  {
   "cell_type": "code",
   "execution_count": 11,
   "metadata": {},
   "outputs": [
    {
     "data": {
      "image/png": "[encoded data removed]",
      "text/plain": [
       "<Figure size 432x288 with 1 Axes>"
      ]
     },
     "metadata": {
      "needs_background": "light"
     },
     "output_type": "display_data"
    }
   ],
   "source": [
    "base_color = sb.color_palette()[0]\n",
    "sb.countplot(data = df , x = 'weekday', color = base_color);"
   ]
  },
  {
   "cell_type": "markdown",
   "metadata": {},
   "source": [
    "Seeing weekday users and weekend users show much obvious difference."
   ]
  },
  {
   "cell_type": "code",
   "execution_count": 12,
   "metadata": {},
   "outputs": [
    {
     "data": {
      "image/png": "[encoded data removed]",
      "text/plain": [
       "<Figure size 432x288 with 1 Axes>"
      ]
     },
     "metadata": {
      "needs_background": "light"
     },
     "output_type": "display_data"
    }
   ],
   "source": [
    "base_color = sb.color_palette()[0]\n",
    "sb.countplot(data = df , x = 'user_type', color = base_color);"
   ]
  },
  {
   "cell_type": "markdown",
   "metadata": {},
   "source": [
    "There are more Subscribers. That means there are more people use Gobike regularly.\\\n",
    "Probbaly those subscribers are commuters.\\\n",
    "This gragh is almost identical to the weekend users and weekday users graph."
   ]
  },
  {
   "cell_type": "markdown",
   "metadata": {},
   "source": [
    "### Discuss the distribution(s) of your variable(s) of interest. Were there any unusual points? Did you need to perform any transformations?\n",
    "\n",
    "The `duration_sec` column had a large gap between maximum value and minimum value, so I used log scale in order to see informations clearly.\n",
    "\n",
    "### Of the features you investigated, were there any unusual distributions? Did you perform any operations on the data to tidy, adjust, or change the form of the data? If so, why did you do this?\n",
    "\n",
    "There are clear difference between weekdays users and weekend users, also customers(one-time users) and subscribers.\n",
    "I made `day` column to see which day of the week based on customer's start time. By plotting this column, I was able to see a clear difference between weekend users and weekday users."
   ]
  },
  {
   "cell_type": "markdown",
   "metadata": {},
   "source": [
    "## Bivariate Exploration"
   ]
  },
  {
   "cell_type": "code",
   "execution_count": 13,
   "metadata": {},
   "outputs": [],
   "source": [
    "numeric_vars = ['duration_sec']\n",
    "categoric_vars = ['day', 'weekend', 'use_type']"
   ]
  },
  {
   "cell_type": "markdown",
   "metadata": {},
   "source": [
    "### Talk about some of the relationships you observed in this part of the investigation. How did the feature(s) of interest vary with other features in the dataset?\n",
    "\n",
    "> Your answer here!\n",
    "\n",
    "### Did you observe any interesting relationships between the other features (not the main feature(s) of interest)?\n",
    "\n",
    "> Your answer here!"
   ]
  },
  {
   "cell_type": "markdown",
   "metadata": {},
   "source": [
    "## Multivariate Exploration\n",
    "\n",
    "> Create plots of three or more variables to investigate your data even\n",
    "further. Make sure that your investigations are justified, and follow from\n",
    "your work in the previous sections."
   ]
  },
  {
   "cell_type": "code",
   "execution_count": null,
   "metadata": {},
   "outputs": [],
   "source": []
  },
  {
   "cell_type": "markdown",
   "metadata": {},
   "source": [
    "### Talk about some of the relationships you observed in this part of the investigation. Were there features that strengthened each other in terms of looking at your feature(s) of interest?\n",
    "\n",
    "> Your answer here!\n",
    "\n",
    "### Were there any interesting or surprising interactions between features?\n",
    "\n",
    "> Your answer here!"
   ]
  },
  {
   "cell_type": "markdown",
   "metadata": {},
   "source": [
    "> At the end of your report, make sure that you export the notebook as an\n",
    "html file from the `File > Download as... > HTML` menu. Make sure you keep\n",
    "track of where the exported file goes, so you can put it in the same folder\n",
    "as this notebook for project submission. Also, make sure you remove all of\n",
    "the quote-formatted guide notes like this one before you finish your report!"
   ]
  },
  {
   "cell_type": "code",
   "execution_count": null,
   "metadata": {},
   "outputs": [],
   "source": []
  }
 ],
 "metadata": {
  "kernelspec": {
   "display_name": "Python 3",
   "language": "python",
   "name": "python3"
  },
  "language_info": {
   "codemirror_mode": {
    "name": "ipython",
    "version": 3
   },
   "file_extension": ".py",
   "mimetype": "text/x-python",
   "name": "python",
   "nbconvert_exporter": "python",
   "pygments_lexer": "ipython3",
   "version": "3.7.6"
  }
 },
 "nbformat": 4,
 "nbformat_minor": 2
}
